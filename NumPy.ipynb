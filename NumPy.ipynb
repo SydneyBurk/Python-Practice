{
 "cells": [
  {
   "cell_type": "code",
   "execution_count": 7,
   "id": "1afbd348",
   "metadata": {},
   "outputs": [
    {
     "name": "stdout",
     "output_type": "stream",
     "text": [
      "[ 4  5  7  9 12]\n",
      "[ 4.  5.  7.  9. 12.]\n"
     ]
    }
   ],
   "source": [
    "# Intro to Numpy\n",
    "# Numpy is a Python package that works with arrays\n",
    "# What Pandas is to tables, Numpy is to arrays and numerical operations\n",
    "import numpy as np\n",
    "# Arrays resemble lists but require all elements to be the same type\n",
    "# However, arrays consume less memory than lists\n",
    "# Also more useful for manipulation in Numpy\n",
    "x = np.array([4, 5, 7, 9, 12])\n",
    "# compare list: x = [4, 5, 7, 9, 12]\n",
    "print(x)\n",
    "# Type is assumed by numpy but you can also specify it\n",
    "y = np.array([4, 5, 7, 9, 12], dtype = 'float')\n",
    "print(y)"
   ]
  },
  {
   "cell_type": "code",
   "execution_count": 8,
   "id": "b248d5ec",
   "metadata": {},
   "outputs": [
    {
     "data": {
      "text/plain": [
       "(2, 5)"
      ]
     },
     "execution_count": 8,
     "metadata": {},
     "output_type": "execute_result"
    }
   ],
   "source": [
    "# Multi Dimensional Arrays\n",
    "x = np.array([[1, 1, 2, 5, 9], [50, 55, 75, 120, 200]])\n",
    "# Even larger arrays can be created, but such complex datasets are better handled with Pandas\n",
    "# The shape of an array can be handled with the shape method\n",
    "x.shape\n",
    "# Copying arrays\n",
    "y = x.copy()\n",
    "# Copied array can now be changed without affecting original"
   ]
  },
  {
   "cell_type": "code",
   "execution_count": 10,
   "id": "9ae14cf6",
   "metadata": {},
   "outputs": [
    {
     "name": "stdout",
     "output_type": "stream",
     "text": [
      "9\n",
      "12\n",
      "75\n"
     ]
    }
   ],
   "source": [
    "# Array Indexing\n",
    "# Works similarly to indexing in other aspects of Python\n",
    "x = np.array([4, 5, 7, 9, 12])\n",
    "print(x[3])\n",
    "print(x[-1])\n",
    "x = np.array([[1, 1, 2, 5, 9], [50, 55, 75, 120, 200]])\n",
    "# To index a multi dimensional array, simply pass two values in separate brackets\n",
    "print(x[1][2])"
   ]
  },
  {
   "cell_type": "code",
   "execution_count": 11,
   "id": "488dbe9e",
   "metadata": {},
   "outputs": [
    {
     "name": "stdout",
     "output_type": "stream",
     "text": [
      "[5 7 9]\n",
      "[4 5 7]\n",
      "[ 7  9 12]\n",
      "[ 7  9 12]\n"
     ]
    }
   ],
   "source": [
    "# Array Slicing\n",
    "# Again, this is similar to slicing elsewhere in Python\n",
    "x = np.array([4, 5, 7, 9, 12])\n",
    "# Get elements two through four\n",
    "print(x[1:4])\n",
    "# Get the first three elements\n",
    "print(x[:3])\n",
    "# Get the last three elements\n",
    "print(x[2:])\n",
    "# Get the last three elements - different way\n",
    "print(x[-3:])"
   ]
  },
  {
   "cell_type": "code",
   "execution_count": 18,
   "id": "b2664a99",
   "metadata": {},
   "outputs": [
    {
     "name": "stdout",
     "output_type": "stream",
     "text": [
      "[0.96900127 0.11568586 0.11807955 0.33008125 0.92683009]\n",
      "10.0\n",
      "[0.90308999 0.30103    0.60205999]\n",
      "8.5143\n",
      "8.0\n",
      "9.0\n"
     ]
    }
   ],
   "source": [
    "# Key Numpy Functions\n",
    "# Randomizing\n",
    "r = np.random.random([5])\n",
    "# To get between 0 and 100\n",
    "# r = np.random.random([5]) * 100\n",
    "print(r)\n",
    "# Arithmetic Operations\n",
    "print(np.sqrt(100))\n",
    "print(np.log10([8, 2, 4]))\n",
    "print(np.round(8.514324326, 4))\n",
    "print(np.floor(8.51))\n",
    "print(np.ceil(8.49))\n",
    "# Trig functions are also available; we won't go into those today"
   ]
  },
  {
   "cell_type": "code",
   "execution_count": 36,
   "id": "e6221956",
   "metadata": {},
   "outputs": [
    {
     "name": "stdout",
     "output_type": "stream",
     "text": [
      "31.0\n"
     ]
    }
   ],
   "source": [
    "# Numpy Operations in Pandas\n",
    "# Can be used element wise just like other Pandas operations\n",
    "# Bring in our cars dataset\n",
    "import pandas as pd\n",
    "cars = pd.read_csv(\"cars.csv\")\n",
    "cars\n",
    "# Add a column for the square root of displacement and round it off\n",
    "cars[\"sqrt_disp\"] = np.sqrt(cars[\"disp\"])\n",
    "cars[\"sqrt_disp\"] = np.round(cars[\"sqrt_disp\"], 1)\n",
    "cars\n",
    "# Call summary statistics on cars\n",
    "# print(np.mean(cars[\"mpg\"]))\n",
    "# print(np.median(cars[\"mpg\"]))\n",
    "print(np.round(np.percentile(cars[\"mpg\"], 95), 0))"
   ]
  },
  {
   "cell_type": "code",
   "execution_count": null,
   "id": "8a1819c1",
   "metadata": {},
   "outputs": [],
   "source": []
  }
 ],
 "metadata": {
  "kernelspec": {
   "display_name": "Python 3 (ipykernel)",
   "language": "python",
   "name": "python3"
  },
  "language_info": {
   "codemirror_mode": {
    "name": "ipython",
    "version": 3
   },
   "file_extension": ".py",
   "mimetype": "text/x-python",
   "name": "python",
   "nbconvert_exporter": "python",
   "pygments_lexer": "ipython3",
   "version": "3.9.13"
  }
 },
 "nbformat": 4,
 "nbformat_minor": 5
}
