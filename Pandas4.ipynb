{
 "cells": [
  {
   "cell_type": "code",
   "execution_count": 21,
   "id": "b69db796",
   "metadata": {},
   "outputs": [
    {
     "name": "stdout",
     "output_type": "stream",
     "text": [
      "Yes\n",
      "Yes\n",
      "6\n",
      "8\n",
      "8\n",
      "Yes\n"
     ]
    }
   ],
   "source": [
    "# Create an if statement that, for every string in a list, prints Yes if string has at least 10 characters\n",
    "# and otherwise prints the length of the list.\n",
    "list=['California', 'Washington', 'Oregon', 'Virginia', 'Colorado', 'Mississippi']\n",
    "for state in list:\n",
    "    if len(state) >= 10:\n",
    "        print('Yes')\n",
    "    else:\n",
    "        print(len(state))"
   ]
  },
  {
   "cell_type": "code",
   "execution_count": 44,
   "id": "de86c9f9",
   "metadata": {},
   "outputs": [
    {
     "name": "stdout",
     "output_type": "stream",
     "text": [
      "8\n"
     ]
    }
   ],
   "source": [
    "# Create a for loop that counts the number of vowels in a string\n",
    "string='this is a sample string data'\n",
    "x=0\n",
    "for character in string:\n",
    "    if(character == 'a' or character == 'e' or character == 'i' or character == 'o' or character == 'u'):\n",
    "        x+=1\n",
    "    else:\n",
    "        x+=0\n",
    "print(x)"
   ]
  },
  {
   "cell_type": "code",
   "execution_count": 47,
   "id": "4ec60665",
   "metadata": {},
   "outputs": [
    {
     "name": "stdout",
     "output_type": "stream",
     "text": [
      "8\n"
     ]
    }
   ],
   "source": [
    "#easier way for ^\n",
    "y=0\n",
    "vowels=['a','e','i','o','u']\n",
    "for character in string:\n",
    "    if(character in vowels):\n",
    "        y+=1\n",
    "    else:\n",
    "        y+=0\n",
    "print(y)"
   ]
  },
  {
   "cell_type": "code",
   "execution_count": 49,
   "id": "137f0b84",
   "metadata": {},
   "outputs": [
    {
     "name": "stdout",
     "output_type": "stream",
     "text": [
      "[5]\n",
      "[5, 10]\n",
      "[5, 10, 15]\n",
      "[5, 10, 15, 20]\n",
      "[5, 10, 15, 20, 25]\n",
      "[5, 10, 15, 20, 25, 30]\n",
      "[5, 10, 15, 20, 25, 30, 35]\n",
      "[5, 10, 15, 20, 25, 30, 35, 40]\n",
      "[5, 10, 15, 20, 25, 30, 35, 40, 45]\n",
      "[5, 10, 15, 20, 25, 30, 35, 40, 45, 50]\n",
      "[5, 10, 15, 20, 25, 30, 35, 40, 45, 50, 55]\n",
      "[5, 10, 15, 20, 25, 30, 35, 40, 45, 50, 55, 60]\n",
      "[5, 10, 15, 20, 25, 30, 35, 40, 45, 50, 55, 60, 65]\n",
      "[5, 10, 15, 20, 25, 30, 35, 40, 45, 50, 55, 60, 65, 70]\n",
      "[5, 10, 15, 20, 25, 30, 35, 40, 45, 50, 55, 60, 65, 70, 75]\n",
      "[5, 10, 15, 20, 25, 30, 35, 40, 45, 50, 55, 60, 65, 70, 75, 80]\n",
      "[5, 10, 15, 20, 25, 30, 35, 40, 45, 50, 55, 60, 65, 70, 75, 80, 85]\n",
      "[5, 10, 15, 20, 25, 30, 35, 40, 45, 50, 55, 60, 65, 70, 75, 80, 85, 90]\n",
      "[5, 10, 15, 20, 25, 30, 35, 40, 45, 50, 55, 60, 65, 70, 75, 80, 85, 90, 95]\n",
      "[5, 10, 15, 20, 25, 30, 35, 40, 45, 50, 55, 60, 65, 70, 75, 80, 85, 90, 95, 100]\n"
     ]
    }
   ],
   "source": [
    "# Create a while loop that examines the range of integers 1 through 100 and outputs a running list \n",
    "# of those that are divisible by 5\n",
    "a=1\n",
    "x=[]\n",
    "while(a<=100):\n",
    "    if (a % 5 ==0):\n",
    "        x.append(a)\n",
    "        print(x)\n",
    "    a += 1"
   ]
  },
  {
   "cell_type": "code",
   "execution_count": null,
   "id": "6c588487",
   "metadata": {},
   "outputs": [],
   "source": []
  }
 ],
 "metadata": {
  "kernelspec": {
   "display_name": "Python 3 (ipykernel)",
   "language": "python",
   "name": "python3"
  },
  "language_info": {
   "codemirror_mode": {
    "name": "ipython",
    "version": 3
   },
   "file_extension": ".py",
   "mimetype": "text/x-python",
   "name": "python",
   "nbconvert_exporter": "python",
   "pygments_lexer": "ipython3",
   "version": "3.9.13"
  }
 },
 "nbformat": 4,
 "nbformat_minor": 5
}
